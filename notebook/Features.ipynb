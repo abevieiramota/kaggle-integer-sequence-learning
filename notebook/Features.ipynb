{
 "cells": [
  {
   "cell_type": "code",
   "execution_count": 1,
   "metadata": {
    "collapsed": true
   },
   "outputs": [],
   "source": [
    "import pandas as pd\n",
    "import numpy as np\n",
    "from functools import reduce\n",
    "from operator import add\n",
    "%matplotlib inline\n",
    "\n",
    "pd.set_option('display.max_colwidth', 500)"
   ]
  },
  {
   "cell_type": "code",
   "execution_count": 2,
   "metadata": {
    "collapsed": true
   },
   "outputs": [],
   "source": [
    "train = pd.read_csv('../data/train.csv', index_col='Id')"
   ]
  },
  {
   "cell_type": "code",
   "execution_count": 3,
   "metadata": {
    "collapsed": false
   },
   "outputs": [],
   "source": [
    "seqs = {ix: pd.Series(x['Sequence'].split(',')) for ix, x in train.iterrows()}"
   ]
  },
  {
   "cell_type": "markdown",
   "metadata": {},
   "source": [
    "# Size"
   ]
  },
  {
   "cell_type": "code",
   "execution_count": 4,
   "metadata": {
    "collapsed": false
   },
   "outputs": [],
   "source": [
    "train['Size'] = [len(seq) for seq in seqs.values()]"
   ]
  },
  {
   "cell_type": "code",
   "execution_count": 5,
   "metadata": {
    "collapsed": false
   },
   "outputs": [
    {
     "data": {
      "text/plain": [
       "Id\n",
       "5487                             1,9,81,150094635296999121\n",
       "5614    81647160420,170655787050,211212209880,227961624450\n",
       "5698                                            1,2,8,7073\n",
       "Name: Sequence, dtype: object"
      ]
     },
     "execution_count": 5,
     "metadata": {},
     "output_type": "execute_result"
    }
   ],
   "source": [
    "train[train.Size == 4][15:18]['Sequence']"
   ]
  },
  {
   "cell_type": "markdown",
   "metadata": {},
   "source": [
    "# ValuesSizeMean/Max/Min"
   ]
  },
  {
   "cell_type": "code",
   "execution_count": 6,
   "metadata": {
    "collapsed": false
   },
   "outputs": [],
   "source": [
    "train['ValuesSizeMean'] = [seq.apply(lambda x: len(x)).mean() for seq in seqs.values()]\n",
    "train['ValuesSizeMax'] = [seq.apply(lambda x: len(x)).max() for seq in seqs.values()]\n",
    "train['ValuesSizeMin'] = [seq.apply(lambda x: len(x)).min() for seq in seqs.values()]"
   ]
  },
  {
   "cell_type": "code",
   "execution_count": 7,
   "metadata": {
    "collapsed": false
   },
   "outputs": [
    {
     "data": {
      "text/plain": [
       "Id\n",
       "202             1,1,1,1,1,1,2,2,3,3,4,4,6,6,9,9,13,13,19,19,28,28,41,41,60,60,88,88,129,129,189,189,277,277,406,406,595,595,872,872,1278,1278,1873,1873,2745,2745,4023,4023,5896,5896,8641\n",
       "205    3255,3257,3258,3259,3260,3261,3263,3264,3265,3266,3267,3269,3270,3271,3272,3273,3301,3302,3303,3304,3305,3307,3308,3309,3315,3316,3317,3319,3320,3321,3322,3323,3326,3327,3328,3329\n",
       "Name: Sequence, dtype: object"
      ]
     },
     "execution_count": 7,
     "metadata": {},
     "output_type": "execute_result"
    }
   ],
   "source": [
    "train[train.ValuesSizeMax == 4][13:15]['Sequence']"
   ]
  },
  {
   "cell_type": "markdown",
   "metadata": {},
   "source": [
    "# ValuesMode and ValuesModeFreq\n",
    "ValuesMode is equals to the most frequent value, if it's the only"
   ]
  },
  {
   "cell_type": "code",
   "execution_count": 8,
   "metadata": {
    "collapsed": false
   },
   "outputs": [],
   "source": [
    "train['ValuesMode'] = [None if seqmode.size != 1 else seqmode[0] for seqmode in (seq.mode() for seq in seqs.values())]\n",
    "train['ValuesModeFreq'] = [seq.value_counts().max() for seq in seqs.values()]\n",
    "train.loc[train.ValuesMode.isnull(), 'ValuesModeFreq'] = None"
   ]
  },
  {
   "cell_type": "code",
   "execution_count": 9,
   "metadata": {
    "collapsed": false
   },
   "outputs": [
    {
     "data": {
      "text/html": [
       "<div>\n",
       "<table border=\"1\" class=\"dataframe\">\n",
       "  <thead>\n",
       "    <tr style=\"text-align: right;\">\n",
       "      <th></th>\n",
       "      <th>Sequence</th>\n",
       "      <th>ValuesMode</th>\n",
       "      <th>ValuesModeFreq</th>\n",
       "    </tr>\n",
       "    <tr>\n",
       "      <th>Id</th>\n",
       "      <th></th>\n",
       "      <th></th>\n",
       "      <th></th>\n",
       "    </tr>\n",
       "  </thead>\n",
       "  <tbody>\n",
       "    <tr>\n",
       "      <th>2256</th>\n",
       "      <td>0,0,35,0,3767,0</td>\n",
       "      <td>0</td>\n",
       "      <td>4</td>\n",
       "    </tr>\n",
       "  </tbody>\n",
       "</table>\n",
       "</div>"
      ],
      "text/plain": [
       "             Sequence ValuesMode  ValuesModeFreq\n",
       "Id                                              \n",
       "2256  0,0,35,0,3767,0          0               4"
      ]
     },
     "execution_count": 9,
     "metadata": {},
     "output_type": "execute_result"
    }
   ],
   "source": [
    "train.loc[[2256], ['Sequence', 'ValuesMode', 'ValuesModeFreq']]"
   ]
  },
  {
   "cell_type": "markdown",
   "metadata": {},
   "source": [
    "# LastValue"
   ]
  },
  {
   "cell_type": "code",
   "execution_count": 10,
   "metadata": {
    "collapsed": true
   },
   "outputs": [],
   "source": [
    "train['LastValue'] = [seq.iloc[-1] for seq in seqs.values()]"
   ]
  },
  {
   "cell_type": "code",
   "execution_count": 11,
   "metadata": {
    "collapsed": false
   },
   "outputs": [
    {
     "data": {
      "text/html": [
       "<div>\n",
       "<table border=\"1\" class=\"dataframe\">\n",
       "  <thead>\n",
       "    <tr style=\"text-align: right;\">\n",
       "      <th></th>\n",
       "      <th>Sequence</th>\n",
       "      <th>LastValue</th>\n",
       "    </tr>\n",
       "    <tr>\n",
       "      <th>Id</th>\n",
       "      <th></th>\n",
       "      <th></th>\n",
       "    </tr>\n",
       "  </thead>\n",
       "  <tbody>\n",
       "    <tr>\n",
       "      <th>5698</th>\n",
       "      <td>1,2,8,7073</td>\n",
       "      <td>7073</td>\n",
       "    </tr>\n",
       "  </tbody>\n",
       "</table>\n",
       "</div>"
      ],
      "text/plain": [
       "        Sequence LastValue\n",
       "Id                        \n",
       "5698  1,2,8,7073      7073"
      ]
     },
     "execution_count": 11,
     "metadata": {},
     "output_type": "execute_result"
    }
   ],
   "source": [
    "train.loc[[5698], ['Sequence', 'LastValue']]"
   ]
  },
  {
   "cell_type": "markdown",
   "metadata": {},
   "source": [
    "# LastValue == ValuesMode"
   ]
  },
  {
   "cell_type": "code",
   "execution_count": 12,
   "metadata": {
    "collapsed": false
   },
   "outputs": [],
   "source": [
    "train['LastValueEqValuesMode'] = train.apply(lambda x: x['LastValue'] == x['ValuesMode'], axis=1)"
   ]
  },
  {
   "cell_type": "code",
   "execution_count": 14,
   "metadata": {
    "collapsed": false
   },
   "outputs": [
    {
     "data": {
      "text/html": [
       "<div>\n",
       "<table border=\"1\" class=\"dataframe\">\n",
       "  <thead>\n",
       "    <tr style=\"text-align: right;\">\n",
       "      <th></th>\n",
       "      <th>Sequence</th>\n",
       "      <th>LastValue</th>\n",
       "    </tr>\n",
       "    <tr>\n",
       "      <th>Id</th>\n",
       "      <th></th>\n",
       "      <th></th>\n",
       "    </tr>\n",
       "  </thead>\n",
       "  <tbody>\n",
       "    <tr>\n",
       "      <th>2176</th>\n",
       "      <td>1,1,1,4,1,1,1,10,4,1,1,4,1,1,1,37,1,4,1,4,1,1,1,10,4,1,11,4,1,1,1</td>\n",
       "      <td>1</td>\n",
       "    </tr>\n",
       "  </tbody>\n",
       "</table>\n",
       "</div>"
      ],
      "text/plain": [
       "                                                               Sequence  \\\n",
       "Id                                                                        \n",
       "2176  1,1,1,4,1,1,1,10,4,1,1,4,1,1,1,37,1,4,1,4,1,1,1,10,4,1,11,4,1,1,1   \n",
       "\n",
       "     LastValue  \n",
       "Id              \n",
       "2176         1  "
      ]
     },
     "execution_count": 14,
     "metadata": {},
     "output_type": "execute_result"
    }
   ],
   "source": [
    "train[train.LastValueEqValuesMode].loc[[2176], ['Sequence', 'LastValue']]"
   ]
  },
  {
   "cell_type": "markdown",
   "metadata": {},
   "source": [
    "# NUniqueValues"
   ]
  },
  {
   "cell_type": "code",
   "execution_count": 15,
   "metadata": {
    "collapsed": false
   },
   "outputs": [],
   "source": [
    "train['NUniqueValues'] = [seq.value_counts().shape[0] for seq in seqs.values()]"
   ]
  },
  {
   "cell_type": "markdown",
   "metadata": {},
   "source": [
    "# NPrefixValues\n",
    "number of values that are prefix of next value"
   ]
  },
  {
   "cell_type": "code",
   "execution_count": 16,
   "metadata": {
    "collapsed": false
   },
   "outputs": [],
   "source": [
    "train['NPrefixValues'] = [reduce(add, (seq[i+1].startswith(seq[i]) for i in range(seq.shape[0] - 1)), 0) for seq in seqs.values()]"
   ]
  },
  {
   "cell_type": "markdown",
   "metadata": {},
   "source": [
    "# NPrefixValues == Size - 1\n",
    "pattern\n",
    "\n",
    "x(0) = base\n",
    "\n",
    "x(t+1) = concat(x(t), c(t+1))"
   ]
  },
  {
   "cell_type": "code",
   "execution_count": 17,
   "metadata": {
    "collapsed": true
   },
   "outputs": [],
   "source": [
    "train['NPrefixValuesEqSizeMinus1'] = (train.NPrefixValues == train.Size - 1)"
   ]
  },
  {
   "cell_type": "code",
   "execution_count": 18,
   "metadata": {
    "collapsed": false
   },
   "outputs": [
    {
     "data": {
      "text/html": [
       "<div>\n",
       "<table border=\"1\" class=\"dataframe\">\n",
       "  <thead>\n",
       "    <tr style=\"text-align: right;\">\n",
       "      <th></th>\n",
       "      <th>Sequence</th>\n",
       "      <th>Size</th>\n",
       "      <th>ValuesSizeMean</th>\n",
       "      <th>ValuesSizeMax</th>\n",
       "      <th>ValuesSizeMin</th>\n",
       "      <th>ValuesMode</th>\n",
       "      <th>ValuesModeFreq</th>\n",
       "      <th>LastValue</th>\n",
       "      <th>LastValueEqValuesMode</th>\n",
       "      <th>NUniqueValues</th>\n",
       "      <th>NPrefixValues</th>\n",
       "      <th>NPrefixValuesEqSizeMinus1</th>\n",
       "    </tr>\n",
       "    <tr>\n",
       "      <th>Id</th>\n",
       "      <th></th>\n",
       "      <th></th>\n",
       "      <th></th>\n",
       "      <th></th>\n",
       "      <th></th>\n",
       "      <th></th>\n",
       "      <th></th>\n",
       "      <th></th>\n",
       "      <th></th>\n",
       "      <th></th>\n",
       "      <th></th>\n",
       "      <th></th>\n",
       "    </tr>\n",
       "  </thead>\n",
       "  <tbody>\n",
       "    <tr>\n",
       "      <th>156118</th>\n",
       "      <td>2,23,2357</td>\n",
       "      <td>3</td>\n",
       "      <td>2.333333</td>\n",
       "      <td>4</td>\n",
       "      <td>1</td>\n",
       "      <td>None</td>\n",
       "      <td>NaN</td>\n",
       "      <td>2357</td>\n",
       "      <td>False</td>\n",
       "      <td>3</td>\n",
       "      <td>2</td>\n",
       "      <td>True</td>\n",
       "    </tr>\n",
       "    <tr>\n",
       "      <th>191625</th>\n",
       "      <td>2,21,212,2122</td>\n",
       "      <td>4</td>\n",
       "      <td>2.500000</td>\n",
       "      <td>4</td>\n",
       "      <td>1</td>\n",
       "      <td>None</td>\n",
       "      <td>NaN</td>\n",
       "      <td>2122</td>\n",
       "      <td>False</td>\n",
       "      <td>4</td>\n",
       "      <td>3</td>\n",
       "      <td>True</td>\n",
       "    </tr>\n",
       "  </tbody>\n",
       "</table>\n",
       "</div>"
      ],
      "text/plain": [
       "             Sequence  Size  ValuesSizeMean  ValuesSizeMax  ValuesSizeMin  \\\n",
       "Id                                                                          \n",
       "156118      2,23,2357     3        2.333333              4              1   \n",
       "191625  2,21,212,2122     4        2.500000              4              1   \n",
       "\n",
       "       ValuesMode  ValuesModeFreq LastValue LastValueEqValuesMode  \\\n",
       "Id                                                                  \n",
       "156118       None             NaN      2357                 False   \n",
       "191625       None             NaN      2122                 False   \n",
       "\n",
       "        NUniqueValues  NPrefixValues NPrefixValuesEqSizeMinus1  \n",
       "Id                                                              \n",
       "156118              3              2                      True  \n",
       "191625              4              3                      True  "
      ]
     },
     "execution_count": 18,
     "metadata": {},
     "output_type": "execute_result"
    }
   ],
   "source": [
    "train[(train.NPrefixValuesEqSizeMinus1) & (train.Size < 10) & (train.ValuesSizeMax < 5)][:2]"
   ]
  },
  {
   "cell_type": "code",
   "execution_count": 19,
   "metadata": {
    "collapsed": false
   },
   "outputs": [
    {
     "data": {
      "text/plain": [
       "(246, 12)"
      ]
     },
     "execution_count": 19,
     "metadata": {},
     "output_type": "execute_result"
    }
   ],
   "source": [
    "train[train.NPrefixValuesEqSizeMinus1].shape"
   ]
  },
  {
   "cell_type": "code",
   "execution_count": 20,
   "metadata": {
    "collapsed": false
   },
   "outputs": [
    {
     "data": {
      "text/html": [
       "<div>\n",
       "<table border=\"1\" class=\"dataframe\">\n",
       "  <thead>\n",
       "    <tr style=\"text-align: right;\">\n",
       "      <th></th>\n",
       "      <th>Sequence</th>\n",
       "      <th>Size</th>\n",
       "      <th>ValuesSizeMean</th>\n",
       "      <th>ValuesSizeMax</th>\n",
       "      <th>ValuesSizeMin</th>\n",
       "      <th>ValuesMode</th>\n",
       "      <th>ValuesModeFreq</th>\n",
       "      <th>LastValue</th>\n",
       "      <th>LastValueEqValuesMode</th>\n",
       "      <th>NUniqueValues</th>\n",
       "      <th>NPrefixValues</th>\n",
       "      <th>NPrefixValuesEqSizeMinus1</th>\n",
       "    </tr>\n",
       "    <tr>\n",
       "      <th>Id</th>\n",
       "      <th></th>\n",
       "      <th></th>\n",
       "      <th></th>\n",
       "      <th></th>\n",
       "      <th></th>\n",
       "      <th></th>\n",
       "      <th></th>\n",
       "      <th></th>\n",
       "      <th></th>\n",
       "      <th></th>\n",
       "      <th></th>\n",
       "      <th></th>\n",
       "    </tr>\n",
       "  </thead>\n",
       "  <tbody>\n",
       "    <tr>\n",
       "      <th>108461</th>\n",
       "      <td>1,1,2,1,2,3,1,1,2,4,1,1,2,3,5,1,1,1,2,3,6,1,1,1,2,2,3,7,1,1,1,1,2,2,3,8,1,1,1,1,2,2,2,4,9,1,1,1,1,1,2,2,2,4,10</td>\n",
       "      <td>55</td>\n",
       "      <td>1.018182</td>\n",
       "      <td>2</td>\n",
       "      <td>1</td>\n",
       "      <td>1</td>\n",
       "      <td>26</td>\n",
       "      <td>10</td>\n",
       "      <td>False</td>\n",
       "      <td>10</td>\n",
       "      <td>23</td>\n",
       "      <td>False</td>\n",
       "    </tr>\n",
       "    <tr>\n",
       "      <th>94079</th>\n",
       "      <td>9,18,27,36,45,54,63,72,82,83,84,85,86,87,88,89,90,99,108,117,126,135,144,153,163,164,165,166,167,168,169,170,171,180,189,198,207,216,225,234,244,245,246,247,248,249,250,251,252,261</td>\n",
       "      <td>50</td>\n",
       "      <td>2.620000</td>\n",
       "      <td>3</td>\n",
       "      <td>1</td>\n",
       "      <td>None</td>\n",
       "      <td>NaN</td>\n",
       "      <td>261</td>\n",
       "      <td>False</td>\n",
       "      <td>50</td>\n",
       "      <td>0</td>\n",
       "      <td>False</td>\n",
       "    </tr>\n",
       "  </tbody>\n",
       "</table>\n",
       "</div>"
      ],
      "text/plain": [
       "                                                                                                                                                                                    Sequence  \\\n",
       "Id                                                                                                                                                                                             \n",
       "108461                                                                        1,1,2,1,2,3,1,1,2,4,1,1,2,3,5,1,1,1,2,3,6,1,1,1,2,2,3,7,1,1,1,1,2,2,3,8,1,1,1,1,2,2,2,4,9,1,1,1,1,1,2,2,2,4,10   \n",
       "94079   9,18,27,36,45,54,63,72,82,83,84,85,86,87,88,89,90,99,108,117,126,135,144,153,163,164,165,166,167,168,169,170,171,180,189,198,207,216,225,234,244,245,246,247,248,249,250,251,252,261   \n",
       "\n",
       "        Size  ValuesSizeMean  ValuesSizeMax  ValuesSizeMin ValuesMode  \\\n",
       "Id                                                                      \n",
       "108461    55        1.018182              2              1          1   \n",
       "94079     50        2.620000              3              1       None   \n",
       "\n",
       "        ValuesModeFreq LastValue LastValueEqValuesMode  NUniqueValues  \\\n",
       "Id                                                                      \n",
       "108461              26        10                 False             10   \n",
       "94079              NaN       261                 False             50   \n",
       "\n",
       "        NPrefixValues NPrefixValuesEqSizeMinus1  \n",
       "Id                                               \n",
       "108461             23                     False  \n",
       "94079               0                     False  "
      ]
     },
     "execution_count": 20,
     "metadata": {},
     "output_type": "execute_result"
    }
   ],
   "source": [
    "train.sample(2)"
   ]
  }
 ],
 "metadata": {
  "kernelspec": {
   "display_name": "Python 3",
   "language": "python",
   "name": "python3"
  },
  "language_info": {
   "codemirror_mode": {
    "name": "ipython",
    "version": 3
   },
   "file_extension": ".py",
   "mimetype": "text/x-python",
   "name": "python",
   "nbconvert_exporter": "python",
   "pygments_lexer": "ipython3",
   "version": "3.5.1"
  }
 },
 "nbformat": 4,
 "nbformat_minor": 0
}
